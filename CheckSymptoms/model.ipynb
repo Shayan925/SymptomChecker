{
 "cells": [
  {
   "cell_type": "code",
   "execution_count": 14,
   "source": [
    "from sklearn.model_selection import train_test_split\r\n",
    "import tensorflow as tf\r\n",
    "import pandas as pd\r\n",
    "import numpy as np"
   ],
   "outputs": [],
   "metadata": {}
  },
  {
   "cell_type": "code",
   "execution_count": 15,
   "source": [
    "# Read in the datasets\r\n",
    "df = pd.read_csv('data/dataset.csv')\r\n",
    "df_severities = pd.read_csv('data/Symptom-severity.csv')\r\n",
    "df_precautions = pd.read_csv('data/symptom_precaution.csv')\r\n",
    "df_descriptions = pd.read_csv('data/symptom_Description.csv')"
   ],
   "outputs": [],
   "metadata": {}
  },
  {
   "cell_type": "code",
   "execution_count": 16,
   "source": [
    "# Strip the whitespaces\r\n",
    "cols = df.columns\r\n",
    "data = df[cols].values.flatten()\r\n",
    "\r\n",
    "tmp = pd.Series(data)\r\n",
    "tmp = tmp.str.strip()\r\n",
    "tmp = tmp.values.reshape(df.shape)\r\n",
    "\r\n",
    "df = pd.DataFrame(tmp, columns=df.columns)\r\n",
    "\r\n",
    "# Fill NaN values with zeros\r\n",
    "df = df.fillna(0)"
   ],
   "outputs": [],
   "metadata": {}
  },
  {
   "cell_type": "code",
   "execution_count": 17,
   "source": [
    "# Fix spelling errors in dataset\r\n",
    "df = df.replace('dischromic _patches', 'dischromic_patches')\r\n",
    "df = df.replace('spotting_ urination', 'spotting_urination')\r\n",
    "df = df.replace('foul_smell_of urine', 'foul_smell_ofurine')\r\n",
    "df = df.replace('Dimorphic hemmorhoids(piles)', 'Dimorphic hemorrhoids(piles)')\r\n",
    "\r\n",
    "df.to_csv('data/dataset.csv')\r\n",
    "\r\n",
    "# Replace symptoms with unique id\r\n",
    "for i in range(len(df_severities)):\r\n",
    "    df = df.replace(df_severities['Symptom'][i], df_severities.index[i]+1)"
   ],
   "outputs": [],
   "metadata": {}
  },
  {
   "cell_type": "code",
   "execution_count": 20,
   "source": [
    "# List of diseases and symptoms\r\n",
    "diseases = list(df['Disease'].unique())\r\n",
    "symptoms = list(df_severities['Symptom'].unique())\r\n",
    "\r\n",
    "data = df.iloc[:,1:].values\r\n",
    "# Convert string labels into numerical labels and convert to numpy array\r\n",
    "labels = [[diseases.index(df['Disease'].values[i])] for i in range(len(df['Disease'].values))]\r\n",
    "labels = np.asarray(labels, dtype=np.int64)\r\n",
    "\r\n",
    "# Split data\r\n",
    "x_train, x_test, y_train, y_test = train_test_split(data, labels, shuffle=True, train_size = 0.85)"
   ],
   "outputs": [],
   "metadata": {}
  },
  {
   "cell_type": "code",
   "execution_count": 21,
   "source": [
    "# Create tensorflow model\r\n",
    "model = tf.keras.models.Sequential()\r\n",
    "model.add(tf.keras.layers.Dense(units=256, activation='relu'))\r\n",
    "model.add(tf.keras.layers.Dense(units=256, activation='relu'))\r\n",
    "model.add(tf.keras.layers.Dense(units=41, activation='softmax')) "
   ],
   "outputs": [],
   "metadata": {}
  },
  {
   "cell_type": "code",
   "execution_count": 22,
   "source": [
    "# Compile model\r\n",
    "model.compile(\r\n",
    "    optimizer='adam',\r\n",
    "    loss='sparse_categorical_crossentropy',\r\n",
    "    metrics=['accuracy']\r\n",
    ")"
   ],
   "outputs": [],
   "metadata": {}
  },
  {
   "cell_type": "code",
   "execution_count": 23,
   "source": [
    "model.fit(x_train, y_train, batch_size=32, epochs=55, validation_split=0.3)\r\n",
    "val_loss, val_acc = model.evaluate(x_test, y_test)\r\n",
    "print(val_loss)\r\n",
    "print(val_acc)"
   ],
   "outputs": [
    {
     "output_type": "stream",
     "name": "stdout",
     "text": [
      "Epoch 1/55\n",
      "92/92 [==============================] - 4s 8ms/step - loss: 2.2428 - accuracy: 0.5371 - val_loss: 1.0219 - val_accuracy: 0.7243\n",
      "Epoch 2/55\n",
      "92/92 [==============================] - 0s 3ms/step - loss: 0.8359 - accuracy: 0.7530 - val_loss: 0.8087 - val_accuracy: 0.8088\n",
      "Epoch 3/55\n",
      "92/92 [==============================] - 0s 3ms/step - loss: 0.6767 - accuracy: 0.8176 - val_loss: 0.3962 - val_accuracy: 0.8733\n",
      "Epoch 4/55\n",
      "92/92 [==============================] - 0s 3ms/step - loss: 0.4873 - accuracy: 0.8425 - val_loss: 0.4470 - val_accuracy: 0.8661\n",
      "Epoch 5/55\n",
      "92/92 [==============================] - 0s 3ms/step - loss: 0.3518 - accuracy: 0.8992 - val_loss: 0.3676 - val_accuracy: 0.8853\n",
      "Epoch 6/55\n",
      "92/92 [==============================] - 0s 3ms/step - loss: 0.4325 - accuracy: 0.8753 - val_loss: 0.5428 - val_accuracy: 0.8502\n",
      "Epoch 7/55\n",
      "92/92 [==============================] - 0s 3ms/step - loss: 0.3518 - accuracy: 0.8982 - val_loss: 0.2261 - val_accuracy: 0.9386\n",
      "Epoch 8/55\n",
      "92/92 [==============================] - 0s 3ms/step - loss: 0.2398 - accuracy: 0.9334 - val_loss: 0.2000 - val_accuracy: 0.9474\n",
      "Epoch 9/55\n",
      "92/92 [==============================] - 0s 3ms/step - loss: 0.2298 - accuracy: 0.9327 - val_loss: 0.2144 - val_accuracy: 0.9339\n",
      "Epoch 10/55\n",
      "92/92 [==============================] - 0s 3ms/step - loss: 0.2226 - accuracy: 0.9337 - val_loss: 0.2794 - val_accuracy: 0.9235\n",
      "Epoch 11/55\n",
      "92/92 [==============================] - 0s 3ms/step - loss: 0.2391 - accuracy: 0.9378 - val_loss: 0.2655 - val_accuracy: 0.9371\n",
      "Epoch 12/55\n",
      "92/92 [==============================] - 0s 3ms/step - loss: 0.1876 - accuracy: 0.9419 - val_loss: 0.1515 - val_accuracy: 0.9482\n",
      "Epoch 13/55\n",
      "92/92 [==============================] - 0s 3ms/step - loss: 0.1702 - accuracy: 0.9501 - val_loss: 0.1955 - val_accuracy: 0.9458\n",
      "Epoch 14/55\n",
      "92/92 [==============================] - 0s 3ms/step - loss: 0.2078 - accuracy: 0.9395 - val_loss: 0.1955 - val_accuracy: 0.9554\n",
      "Epoch 15/55\n",
      "92/92 [==============================] - 0s 3ms/step - loss: 0.1639 - accuracy: 0.9498 - val_loss: 0.1168 - val_accuracy: 0.9697\n",
      "Epoch 16/55\n",
      "92/92 [==============================] - 0s 3ms/step - loss: 0.1533 - accuracy: 0.9549 - val_loss: 0.1439 - val_accuracy: 0.9562\n",
      "Epoch 17/55\n",
      "92/92 [==============================] - 0s 4ms/step - loss: 0.1725 - accuracy: 0.9525 - val_loss: 0.1849 - val_accuracy: 0.9538\n",
      "Epoch 18/55\n",
      "92/92 [==============================] - 0s 3ms/step - loss: 0.1382 - accuracy: 0.9638 - val_loss: 0.1550 - val_accuracy: 0.9737\n",
      "Epoch 19/55\n",
      "92/92 [==============================] - 0s 3ms/step - loss: 0.1134 - accuracy: 0.9631 - val_loss: 0.0874 - val_accuracy: 0.9729\n",
      "Epoch 20/55\n",
      "92/92 [==============================] - 0s 3ms/step - loss: 0.1173 - accuracy: 0.9655 - val_loss: 0.2226 - val_accuracy: 0.9602\n",
      "Epoch 21/55\n",
      "92/92 [==============================] - 0s 3ms/step - loss: 0.1666 - accuracy: 0.9583 - val_loss: 0.1896 - val_accuracy: 0.9490\n",
      "Epoch 22/55\n",
      "92/92 [==============================] - 0s 3ms/step - loss: 0.1602 - accuracy: 0.9546 - val_loss: 0.1823 - val_accuracy: 0.9410\n",
      "Epoch 23/55\n",
      "92/92 [==============================] - 0s 3ms/step - loss: 0.1059 - accuracy: 0.9631 - val_loss: 0.1070 - val_accuracy: 0.9633\n",
      "Epoch 24/55\n",
      "92/92 [==============================] - 0s 3ms/step - loss: 0.1043 - accuracy: 0.9672 - val_loss: 0.0712 - val_accuracy: 0.9793\n",
      "Epoch 25/55\n",
      "92/92 [==============================] - 0s 3ms/step - loss: 0.0791 - accuracy: 0.9775 - val_loss: 0.0708 - val_accuracy: 0.9801\n",
      "Epoch 26/55\n",
      "92/92 [==============================] - 0s 3ms/step - loss: 0.0770 - accuracy: 0.9757 - val_loss: 0.0939 - val_accuracy: 0.9729\n",
      "Epoch 27/55\n",
      "92/92 [==============================] - 0s 4ms/step - loss: 0.0772 - accuracy: 0.9761 - val_loss: 0.0809 - val_accuracy: 0.9721\n",
      "Epoch 28/55\n",
      "92/92 [==============================] - 0s 3ms/step - loss: 0.0862 - accuracy: 0.9744 - val_loss: 0.0650 - val_accuracy: 0.9745\n",
      "Epoch 29/55\n",
      "92/92 [==============================] - 0s 3ms/step - loss: 0.0681 - accuracy: 0.9737 - val_loss: 0.0993 - val_accuracy: 0.9578\n",
      "Epoch 30/55\n",
      "92/92 [==============================] - 0s 3ms/step - loss: 0.1021 - accuracy: 0.9672 - val_loss: 0.0852 - val_accuracy: 0.9721\n",
      "Epoch 31/55\n",
      "92/92 [==============================] - 0s 3ms/step - loss: 0.0941 - accuracy: 0.9682 - val_loss: 0.1596 - val_accuracy: 0.9761\n",
      "Epoch 32/55\n",
      "92/92 [==============================] - 0s 3ms/step - loss: 0.0835 - accuracy: 0.9751 - val_loss: 0.0566 - val_accuracy: 0.9849\n",
      "Epoch 33/55\n",
      "92/92 [==============================] - 0s 3ms/step - loss: 0.0640 - accuracy: 0.9761 - val_loss: 0.0971 - val_accuracy: 0.9697\n",
      "Epoch 34/55\n",
      "92/92 [==============================] - 0s 3ms/step - loss: 0.0692 - accuracy: 0.9785 - val_loss: 0.1181 - val_accuracy: 0.9649\n",
      "Epoch 35/55\n",
      "92/92 [==============================] - 0s 3ms/step - loss: 0.0735 - accuracy: 0.9768 - val_loss: 0.0669 - val_accuracy: 0.9753\n",
      "Epoch 36/55\n",
      "92/92 [==============================] - 0s 4ms/step - loss: 0.0766 - accuracy: 0.9734 - val_loss: 0.0854 - val_accuracy: 0.9705\n",
      "Epoch 37/55\n",
      "92/92 [==============================] - 1s 6ms/step - loss: 0.0650 - accuracy: 0.9771 - val_loss: 0.0664 - val_accuracy: 0.9697\n",
      "Epoch 38/55\n",
      "92/92 [==============================] - 0s 3ms/step - loss: 0.0512 - accuracy: 0.9816 - val_loss: 0.0714 - val_accuracy: 0.9809\n",
      "Epoch 39/55\n",
      "92/92 [==============================] - 0s 3ms/step - loss: 0.0581 - accuracy: 0.9812 - val_loss: 0.0518 - val_accuracy: 0.9873\n",
      "Epoch 40/55\n",
      "92/92 [==============================] - 0s 3ms/step - loss: 0.0566 - accuracy: 0.9785 - val_loss: 0.0609 - val_accuracy: 0.9801\n",
      "Epoch 41/55\n",
      "92/92 [==============================] - 0s 4ms/step - loss: 0.0699 - accuracy: 0.9781 - val_loss: 0.0832 - val_accuracy: 0.9713\n",
      "Epoch 42/55\n",
      "92/92 [==============================] - 0s 3ms/step - loss: 0.0590 - accuracy: 0.9812 - val_loss: 0.0522 - val_accuracy: 0.9817\n",
      "Epoch 43/55\n",
      "92/92 [==============================] - 0s 3ms/step - loss: 0.1175 - accuracy: 0.9716 - val_loss: 0.1292 - val_accuracy: 0.9649\n",
      "Epoch 44/55\n",
      "92/92 [==============================] - 0s 3ms/step - loss: 0.0672 - accuracy: 0.9805 - val_loss: 0.0561 - val_accuracy: 0.9801\n",
      "Epoch 45/55\n",
      "92/92 [==============================] - 0s 4ms/step - loss: 0.0460 - accuracy: 0.9822 - val_loss: 0.0567 - val_accuracy: 0.9793\n",
      "Epoch 46/55\n",
      "92/92 [==============================] - 0s 3ms/step - loss: 0.0473 - accuracy: 0.9819 - val_loss: 0.0512 - val_accuracy: 0.9793\n",
      "Epoch 47/55\n",
      "92/92 [==============================] - 0s 3ms/step - loss: 0.0428 - accuracy: 0.9846 - val_loss: 0.0407 - val_accuracy: 0.9880\n",
      "Epoch 48/55\n",
      "92/92 [==============================] - 0s 3ms/step - loss: 0.0416 - accuracy: 0.9850 - val_loss: 0.0522 - val_accuracy: 0.9785\n",
      "Epoch 49/55\n",
      "92/92 [==============================] - 0s 3ms/step - loss: 0.0499 - accuracy: 0.9836 - val_loss: 0.0382 - val_accuracy: 0.9880\n",
      "Epoch 50/55\n",
      "92/92 [==============================] - 0s 4ms/step - loss: 0.0853 - accuracy: 0.9764 - val_loss: 0.0501 - val_accuracy: 0.9817\n",
      "Epoch 51/55\n",
      "92/92 [==============================] - 0s 4ms/step - loss: 0.0563 - accuracy: 0.9819 - val_loss: 0.0386 - val_accuracy: 0.9857\n",
      "Epoch 52/55\n",
      "92/92 [==============================] - 0s 4ms/step - loss: 0.0533 - accuracy: 0.9795 - val_loss: 0.1148 - val_accuracy: 0.9729\n",
      "Epoch 53/55\n",
      "92/92 [==============================] - 0s 3ms/step - loss: 0.0686 - accuracy: 0.9744 - val_loss: 0.0692 - val_accuracy: 0.9785\n",
      "Epoch 54/55\n",
      "92/92 [==============================] - 0s 3ms/step - loss: 0.0595 - accuracy: 0.9822 - val_loss: 0.0443 - val_accuracy: 0.9825\n",
      "Epoch 55/55\n",
      "92/92 [==============================] - 0s 3ms/step - loss: 0.0539 - accuracy: 0.9795 - val_loss: 0.0447 - val_accuracy: 0.9857\n",
      "24/24 [==============================] - 0s 2ms/step - loss: 0.0411 - accuracy: 0.9878\n",
      "0.04112492874264717\n",
      "0.9878048896789551\n"
     ]
    }
   ],
   "metadata": {}
  },
  {
   "cell_type": "code",
   "execution_count": 10,
   "source": [
    "# Save model\r\n",
    "model.save('symptom_checker.model')"
   ],
   "outputs": [
    {
     "output_type": "stream",
     "name": "stdout",
     "text": [
      "INFO:tensorflow:Assets written to: symptom_checker.model\\assets\n"
     ]
    }
   ],
   "metadata": {}
  }
 ],
 "metadata": {
  "orig_nbformat": 4,
  "language_info": {
   "name": "python",
   "version": "3.9.6",
   "mimetype": "text/x-python",
   "codemirror_mode": {
    "name": "ipython",
    "version": 3
   },
   "pygments_lexer": "ipython3",
   "nbconvert_exporter": "python",
   "file_extension": ".py"
  },
  "kernelspec": {
   "name": "python3",
   "display_name": "Python 3.9.6 64-bit"
  },
  "interpreter": {
   "hash": "4f8763616d36299a7e67065bbff61b4594b946871d4c1b06c8acd4b8a7e0d76f"
  }
 },
 "nbformat": 4,
 "nbformat_minor": 2
}